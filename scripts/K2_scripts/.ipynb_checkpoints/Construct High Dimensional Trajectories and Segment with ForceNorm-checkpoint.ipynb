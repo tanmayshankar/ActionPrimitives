{
 "cells": [
  {
   "cell_type": "code",
   "execution_count": 1,
   "metadata": {
    "collapsed": true
   },
   "outputs": [],
   "source": [
    "from headers import *"
   ]
  },
  {
   "cell_type": "code",
   "execution_count": 2,
   "metadata": {
    "collapsed": true
   },
   "outputs": [],
   "source": [
    "FILE_DIR = \"/home/tanmay/catkin_ws/src/Visualize_Primitives/Data/K2_Demos/Grid_Demo/Compiled_Data/\"\n",
    "lh = npy.load(os.path.join(FILE_DIR,\"LHC.npy\"))\n",
    "rh = npy.load(os.path.join(FILE_DIR,\"RHC.npy\"))\n",
    "objc = npy.load(os.path.join(FILE_DIR,\"Interp_Objects.npy\"))\n"
   ]
  },
  {
   "cell_type": "code",
   "execution_count": 6,
   "metadata": {
    "collapsed": false,
    "scrolled": true
   },
   "outputs": [
    {
     "name": "stdout",
     "output_type": "stream",
     "text": [
      "((236, 3), (236, 2, 3))\n",
      "((291, 3), (291, 2, 3))\n",
      "((251, 3), (251, 2, 3))\n",
      "((241, 3), (241, 2, 3))\n",
      "((221, 3), (221, 2, 3))\n",
      "((226, 3), (226, 2, 3))\n",
      "((201, 3), (201, 2, 3))\n",
      "((251, 3), (251, 2, 3))\n",
      "((231, 3), (231, 2, 3))\n",
      "((261, 3), (261, 2, 3))\n"
     ]
    }
   ],
   "source": [
    "lh_o1 = [[] for i in range(10)]\n",
    "lh_o2 = [[] for i in range(10)]\n",
    "rh_o1 = [[] for i in range(10)]\n",
    "rh_o2 = [[] for i in range(10)]\n",
    "\n",
    "for i in range(10):\n",
    "    print(lh[i].shape,objc[i].shape)\n",
    "    lh_o1[i] = lh[i] - objc[i][:,0,:]\n",
    "    lh_o2[i] = lh[i] - objc[i][:,1,:]\n",
    "    rh_o1[i] = rh[i] - objc[i][:,0,:]\n",
    "    rh_o2[i] = rh[i] - objc[i][:,1,:]"
   ]
  },
  {
   "cell_type": "code",
   "execution_count": 12,
   "metadata": {
    "collapsed": false
   },
   "outputs": [],
   "source": [
    "npy.save(\"LHO1.npy\",lh_o1)\n",
    "npy.save(\"LHO2.npy\",lh_o2)\n",
    "npy.save(\"RHO1.npy\",rh_o1)\n",
    "npy.save(\"RHO2.npy\",rh_o2)\n"
   ]
  },
  {
   "cell_type": "code",
   "execution_count": 3,
   "metadata": {
    "collapsed": true
   },
   "outputs": [],
   "source": [
    "# HIJACKING THIS NOTEBOOK FOR RUNNING FORCE SEGMENTATION ON EVERYTHING\n",
    "rolltime = 100\n",
    "lhdmp = [[] for i in range(10)]\n",
    "rhdmp = [[] for i in range(10)]\n",
    "# lho1dmp = [DMP(100) for i in rangege(10)]\n",
    "# lho2dmp = [DMP(100) for i in range(10)]\n",
    "# rho1dmp = [DMP(100) for i in range(10)]\n",
    "# rho2dmp = [DMP(100) for i in range(10)]"
   ]
  },
  {
   "cell_type": "code",
   "execution_count": 4,
   "metadata": {
    "collapsed": false
   },
   "outputs": [],
   "source": [
    "for i in range(10):\n",
    "    lhdmp[i] = DMP(len(lh[i])) \n",
    "    rhdmp[i] = DMP(len(rh[i]))\n",
    "    \n",
    "    lhdmp[i].linear_interpolate(lh[i])\n",
    "    rhdmp[i].linear_interpolate(rh[i])\n",
    "    \n",
    "    lhdmp[i].initialize_variables()\n",
    "    rhdmp[i].initialize_variables()\n",
    "    \n",
    "    lhdmp[i].learn_DMP()\n",
    "    rhdmp[i].learn_DMP()\n",
    "    \n",
    "    lhdmp[i].rollout(lhdmp[i].demo_pos[0],lhdmp[i].demo_pos[-1],lhdmp[i].demo_vel[0])\n",
    "    rhdmp[i].rollout(rhdmp[i].demo_pos[0],rhdmp[i].demo_pos[-1],rhdmp[i].demo_vel[0])"
   ]
  },
  {
   "cell_type": "code",
   "execution_count": 7,
   "metadata": {
    "collapsed": false
   },
   "outputs": [],
   "source": [
    "from scipy.signal import argrelextrema"
   ]
  },
  {
   "cell_type": "code",
   "execution_count": 20,
   "metadata": {
    "collapsed": false
   },
   "outputs": [
    {
     "name": "stdout",
     "output_type": "stream",
     "text": [
      "0\n"
     ]
    },
    {
     "ename": "NameError",
     "evalue": "global name 'argrelextrema' is not defined",
     "output_type": "error",
     "traceback": [
      "\u001b[0;31m---------------------------------------------------------------------------\u001b[0m",
      "\u001b[0;31mNameError\u001b[0m                                 Traceback (most recent call last)",
      "\u001b[0;32m<ipython-input-20-6fa57124932f>\u001b[0m in \u001b[0;36m<module>\u001b[0;34m()\u001b[0m\n\u001b[1;32m      1\u001b[0m \u001b[0;32mfor\u001b[0m \u001b[0mi\u001b[0m \u001b[0;32min\u001b[0m \u001b[0mrange\u001b[0m\u001b[0;34m(\u001b[0m\u001b[0;36m10\u001b[0m\u001b[0;34m)\u001b[0m\u001b[0;34m:\u001b[0m\u001b[0;34m\u001b[0m\u001b[0m\n\u001b[1;32m      2\u001b[0m     \u001b[0;32mprint\u001b[0m\u001b[0;34m(\u001b[0m\u001b[0mi\u001b[0m\u001b[0;34m)\u001b[0m\u001b[0;34m\u001b[0m\u001b[0m\n\u001b[0;32m----> 3\u001b[0;31m     \u001b[0mlhdmp\u001b[0m\u001b[0;34m[\u001b[0m\u001b[0mi\u001b[0m\u001b[0;34m]\u001b[0m\u001b[0;34m.\u001b[0m\u001b[0mcalc_normf_segmentation\u001b[0m\u001b[0;34m(\u001b[0m\u001b[0;34m)\u001b[0m\u001b[0;34m\u001b[0m\u001b[0m\n\u001b[0m\u001b[1;32m      4\u001b[0m \u001b[0;31m#     lhdmp[i].calc_segmentation_indices()\u001b[0m\u001b[0;34m\u001b[0m\u001b[0;34m\u001b[0m\u001b[0m\n\u001b[1;32m      5\u001b[0m     \u001b[0mnpy\u001b[0m\u001b[0;34m.\u001b[0m\u001b[0msave\u001b[0m\u001b[0;34m(\u001b[0m\u001b[0;34m\"D{0}_LH_NFSeg.npy\"\u001b[0m\u001b[0;34m.\u001b[0m\u001b[0mformat\u001b[0m\u001b[0;34m(\u001b[0m\u001b[0mi\u001b[0m\u001b[0;34m+\u001b[0m\u001b[0;36m1\u001b[0m\u001b[0;34m)\u001b[0m\u001b[0;34m,\u001b[0m\u001b[0mlhdmp\u001b[0m\u001b[0;34m[\u001b[0m\u001b[0mi\u001b[0m\u001b[0;34m]\u001b[0m\u001b[0;34m.\u001b[0m\u001b[0msegmentation_indices\u001b[0m\u001b[0;34m)\u001b[0m\u001b[0;34m\u001b[0m\u001b[0m\n",
      "\u001b[0;32m/home/tanmay/Research/Code/ActionPrimitives/scripts/K2_scripts/DMP_Segment.py\u001b[0m in \u001b[0;36mcalc_normf_segmentation\u001b[0;34m(self)\u001b[0m\n\u001b[1;32m    164\u001b[0m                 \u001b[0mforce_norm\u001b[0m \u001b[0;34m=\u001b[0m \u001b[0mnpy\u001b[0m\u001b[0;34m.\u001b[0m\u001b[0mlinalg\u001b[0m\u001b[0;34m.\u001b[0m\u001b[0mnorm\u001b[0m\u001b[0;34m(\u001b[0m\u001b[0mself\u001b[0m\u001b[0;34m.\u001b[0m\u001b[0mforce_roll\u001b[0m\u001b[0;34m,\u001b[0m\u001b[0maxis\u001b[0m\u001b[0;34m=\u001b[0m\u001b[0;36m1\u001b[0m\u001b[0;34m)\u001b[0m\u001b[0;34m\u001b[0m\u001b[0m\n\u001b[1;32m    165\u001b[0m                 \u001b[0mwindow\u001b[0m \u001b[0;34m=\u001b[0m \u001b[0;36m7\u001b[0m\u001b[0;34m\u001b[0m\u001b[0m\n\u001b[0;32m--> 166\u001b[0;31m                 \u001b[0mself\u001b[0m\u001b[0;34m.\u001b[0m\u001b[0msegmentation_indices\u001b[0m \u001b[0;34m=\u001b[0m \u001b[0mscimax\u001b[0m\u001b[0;34m(\u001b[0m\u001b[0mforce_norm\u001b[0m\u001b[0;34m,\u001b[0m\u001b[0mnpy\u001b[0m\u001b[0;34m.\u001b[0m\u001b[0mgreater\u001b[0m\u001b[0;34m,\u001b[0m\u001b[0morder\u001b[0m\u001b[0;34m=\u001b[0m\u001b[0mwindow\u001b[0m\u001b[0;34m)\u001b[0m\u001b[0;34m\u001b[0m\u001b[0m\n\u001b[0m\u001b[1;32m    167\u001b[0m                 \u001b[0;32mwith\u001b[0m \u001b[0mfile\u001b[0m\u001b[0;34m(\u001b[0m\u001b[0;34m\"seg_indices.npy\"\u001b[0m\u001b[0;34m,\u001b[0m\u001b[0;34m'w'\u001b[0m\u001b[0;34m)\u001b[0m \u001b[0;32mas\u001b[0m \u001b[0moutfile\u001b[0m\u001b[0;34m:\u001b[0m\u001b[0;34m\u001b[0m\u001b[0m\n\u001b[1;32m    168\u001b[0m                         \u001b[0mnpy\u001b[0m\u001b[0;34m.\u001b[0m\u001b[0msave\u001b[0m\u001b[0;34m(\u001b[0m\u001b[0moutfile\u001b[0m\u001b[0;34m,\u001b[0m\u001b[0mself\u001b[0m\u001b[0;34m.\u001b[0m\u001b[0msegmentation_indices\u001b[0m\u001b[0;34m)\u001b[0m\u001b[0;34m\u001b[0m\u001b[0m\n",
      "\u001b[0;31mNameError\u001b[0m: global name 'argrelextrema' is not defined"
     ]
    }
   ],
   "source": [
    "for i in range(10):\n",
    "    print(i)\n",
    "    lhdmp[i].calc_normf_segmentation()\n",
    "#     lhdmp[i].calc_segmentation_indices()\n",
    "    npy.save(\"D{0}_LH_NFSeg.npy\".format(i+1),lhdmp[i].segmentation_indices)\n",
    "    \n",
    "    rhdmp[i].calc_normf_segmentation()\n",
    "#     rhdmp[i].calc_segmentation_indices()\n",
    "    npy.save(\"D{0}_RH_NFSeg.npy\".format(i+1),rhdmp[i].segmentation_indices)\n"
   ]
  },
  {
   "cell_type": "code",
   "execution_count": 13,
   "metadata": {
    "collapsed": false
   },
   "outputs": [
    {
     "name": "stdout",
     "output_type": "stream",
     "text": [
      "(0, array([ 22,  43,  64, 171, 191, 216]), 236, 236)\n",
      "(0, array([ 98, 117, 140]))\n",
      "(1, array([ 69,  98, 121, 243, 270]), 291, 291)\n",
      "(1, array([158, 178, 201]))\n",
      "(2, array([194, 208, 230]), 251, 251)\n",
      "(2, array([ 31,  50,  73, 105, 130, 156]))\n",
      "(3, array([105, 133, 146, 160]), 241, 241)\n",
      "(3, array([ 30,  48,  80, 187, 198, 226]))\n",
      "(4, array([169, 185, 210]), 221, 221)\n",
      "(4, array([ 18,  61, 103, 124]))\n",
      "(5, array([174, 189, 206]), 226, 226)\n",
      "(5, array([ 53,  69,  91, 112, 128, 151]))\n",
      "(6, array([ 37,  50,  63, 164, 189]), 201, 201)\n",
      "(6, array([ 89, 109, 132]))\n",
      "(7, array([ 96, 116, 133, 156, 170, 197, 213, 233]), 251, 251)\n",
      "(7, array([29, 48, 71]))\n",
      "(8, array([ 21,  35,  60, 172, 191, 212]), 231, 231)\n",
      "(8, array([ 82,  97, 113, 126, 150]))\n",
      "(9, array([ 25,  42,  69, 203, 220, 244, 257]), 261, 261)\n",
      "(9, array([ 94, 106, 127, 150, 171]))\n"
     ]
    }
   ],
   "source": [
    "for i in range(10):\n",
    "    \n",
    "    lhfnorm = npy.linalg.norm(lhdmp[i].force_roll,axis=1)\n",
    "    lseg = argrelextrema(lhfnorm*(lhfnorm>lhfnorm.mean()),npy.greater,order=7)[0]\n",
    "    \n",
    "    lseg = npy.append(0,lseg)\n",
    "    lseg = npy.append(lseg,lhdmp[i].rollout_time-1)\n",
    "    print(i,lseg)\n",
    "    npy.save(\"D{0}_LH_NFSeg.npy\".format(i+1),lseg)\n",
    "    \n",
    "    rhfnorm = npy.linalg.norm(rhdmp[i].force_roll,axis=1)\n",
    "    rseg = argrelextrema(rhfnorm*(rhfnorm>rhfnorm.mean()),npy.greater,order=7)[0]\n",
    "    \n",
    "    rseg = npy.append(0,rseg)\n",
    "    rseg = npy.append(rseg,rhdmp[i].rollout_time-1)\n",
    "    print(i,rseg)    \n",
    "    npy.save(\"D{0}_RH_NFSeg.npy\".format(i+1),rseg)    "
   ]
  },
  {
   "cell_type": "code",
   "execution_count": 25,
   "metadata": {
    "collapsed": false
   },
   "outputs": [
    {
     "data": {
      "text/plain": [
       "u'/home/tanmay/Research/Code/ActionPrimitives/scripts/K2_scripts'"
      ]
     },
     "execution_count": 25,
     "metadata": {},
     "output_type": "execute_result"
    }
   ],
   "source": [
    "pwd"
   ]
  },
  {
   "cell_type": "code",
   "execution_count": null,
   "metadata": {
    "collapsed": true
   },
   "outputs": [],
   "source": []
  }
 ],
 "metadata": {
  "kernelspec": {
   "display_name": "Python 2",
   "language": "python",
   "name": "python2"
  },
  "language_info": {
   "codemirror_mode": {
    "name": "ipython",
    "version": 2
   },
   "file_extension": ".py",
   "mimetype": "text/x-python",
   "name": "python",
   "nbconvert_exporter": "python",
   "pygments_lexer": "ipython2",
   "version": "2.7.12"
  }
 },
 "nbformat": 4,
 "nbformat_minor": 2
}
